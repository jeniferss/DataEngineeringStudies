{
  "nbformat": 4,
  "nbformat_minor": 0,
  "metadata": {
    "colab": {
      "provenance": []
    },
    "kernelspec": {
      "name": "python3",
      "display_name": "Python 3"
    },
    "language_info": {
      "name": "python"
    }
  },
  "cells": [
    {
      "cell_type": "markdown",
      "source": [
        "### **Sobre**\n",
        "\n",
        "Olá! Este notebook contém alguns exercícios desenvolvidos durante o curso de formação Spark. Os dados utilizados foram fornecidos pelo instrutor do curso, e não há informações sobre licença de distribuição. Para obter mais informações, você pode consultar o [site da plataforma](https://www.eia.ai/formacao-spark-com-pyspark-o-curso-completo).\n"
      ],
      "metadata": {
        "id": "jOPbvOUxQKHv"
      }
    },
    {
      "cell_type": "markdown",
      "source": [
        "### **Instalar Spark no Notebook**"
      ],
      "metadata": {
        "id": "E9Lf_Unh2OlJ"
      }
    },
    {
      "cell_type": "code",
      "source": [
        "# Install Java\n",
        "!apt-get update\n",
        "!apt-get install openjdk-11-jdk-headless -qq > /dev/null\n",
        "\n",
        "# Set JAVA_HOME environment variable\n",
        "import os\n",
        "os.environ['JAVA_HOME'] = '/usr/lib/jvm/java-11-openjdk-amd64'\n",
        "\n",
        "# Install Spark\n",
        "!wget -q https://archive.apache.org/dist/spark/spark-3.5.0/spark-3.5.0-bin-hadoop3.tgz\n",
        "!tar xf spark-3.5.0-bin-hadoop3.tgz\n",
        "!mv spark-3.5.0-bin-hadoop3 /usr/local/spark\n",
        "\n",
        "!pip install pyspark\n",
        "\n",
        "# Set SPARK_HOME environment variable\n",
        "os.environ['SPARK_HOME'] = '/usr/local/spark'"
      ],
      "metadata": {
        "colab": {
          "base_uri": "https://localhost:8080/"
        },
        "id": "PXPQyPaLtQoU",
        "outputId": "bebe4b32-2ecd-4eb1-e4c4-90b29961da2f"
      },
      "execution_count": null,
      "outputs": [
        {
          "output_type": "stream",
          "name": "stdout",
          "text": [
            "Get:1 https://cloud.r-project.org/bin/linux/ubuntu jammy-cran40/ InRelease [3,626 B]\n",
            "Get:2 https://developer.download.nvidia.com/compute/cuda/repos/ubuntu2204/x86_64  InRelease [1,581 B]\n",
            "Get:3 http://security.ubuntu.com/ubuntu jammy-security InRelease [129 kB]\n",
            "Hit:4 http://archive.ubuntu.com/ubuntu jammy InRelease\n",
            "Ign:5 https://r2u.stat.illinois.edu/ubuntu jammy InRelease\n",
            "Get:6 https://r2u.stat.illinois.edu/ubuntu jammy Release [5,713 B]\n",
            "Get:7 https://r2u.stat.illinois.edu/ubuntu jammy Release.gpg [793 B]\n",
            "Get:8 http://archive.ubuntu.com/ubuntu jammy-updates InRelease [128 kB]\n",
            "Hit:9 http://archive.ubuntu.com/ubuntu jammy-backports InRelease\n",
            "Hit:10 https://ppa.launchpadcontent.net/deadsnakes/ppa/ubuntu jammy InRelease\n",
            "Hit:11 https://ppa.launchpadcontent.net/graphics-drivers/ppa/ubuntu jammy InRelease\n",
            "Hit:12 https://ppa.launchpadcontent.net/ubuntugis/ppa/ubuntu jammy InRelease\n",
            "Get:13 https://developer.download.nvidia.com/compute/cuda/repos/ubuntu2204/x86_64  Packages [963 kB]\n",
            "Get:14 https://r2u.stat.illinois.edu/ubuntu jammy/main amd64 Packages [2,566 kB]\n",
            "Get:15 https://r2u.stat.illinois.edu/ubuntu jammy/main all Packages [8,273 kB]\n",
            "Get:16 http://security.ubuntu.com/ubuntu jammy-security/main amd64 Packages [2,224 kB]\n",
            "Get:17 http://security.ubuntu.com/ubuntu jammy-security/universe amd64 Packages [1,149 kB]\n",
            "Get:18 http://security.ubuntu.com/ubuntu jammy-security/restricted amd64 Packages [2,967 kB]\n",
            "Get:19 http://security.ubuntu.com/ubuntu jammy-security/multiverse amd64 Packages [44.7 kB]\n",
            "Get:20 http://archive.ubuntu.com/ubuntu jammy-updates/universe amd64 Packages [1,438 kB]\n",
            "Get:21 http://archive.ubuntu.com/ubuntu jammy-updates/multiverse amd64 Packages [51.8 kB]\n",
            "Get:22 http://archive.ubuntu.com/ubuntu jammy-updates/restricted amd64 Packages [3,045 kB]\n",
            "Get:23 http://archive.ubuntu.com/ubuntu jammy-updates/main amd64 Packages [2,499 kB]\n",
            "Fetched 25.5 MB in 7s (3,535 kB/s)\n",
            "Reading package lists... Done\n",
            "W: Skipping acquire of configured file 'main/source/Sources' as repository 'https://r2u.stat.illinois.edu/ubuntu jammy InRelease' does not seem to provide it (sources.list entry misspelt?)\n",
            "Collecting pyspark\n",
            "  Downloading pyspark-3.5.2.tar.gz (317.3 MB)\n",
            "\u001b[2K     \u001b[90m━━━━━━━━━━━━━━━━━━━━━━━━━━━━━━━━━━━━━━━━\u001b[0m \u001b[32m317.3/317.3 MB\u001b[0m \u001b[31m3.9 MB/s\u001b[0m eta \u001b[36m0:00:00\u001b[0m\n",
            "\u001b[?25h  Preparing metadata (setup.py) ... \u001b[?25l\u001b[?25hdone\n",
            "Requirement already satisfied: py4j==0.10.9.7 in /usr/local/lib/python3.10/dist-packages (from pyspark) (0.10.9.7)\n",
            "Building wheels for collected packages: pyspark\n",
            "  Building wheel for pyspark (setup.py) ... \u001b[?25l\u001b[?25hdone\n",
            "  Created wheel for pyspark: filename=pyspark-3.5.2-py2.py3-none-any.whl size=317812365 sha256=f7a4e459f2e7b388a4c5e60e15a36f44e2c908883263297d7ce33f9f7370f66e\n",
            "  Stored in directory: /root/.cache/pip/wheels/34/34/bd/03944534c44b677cd5859f248090daa9fb27b3c8f8e5f49574\n",
            "Successfully built pyspark\n",
            "Installing collected packages: pyspark\n",
            "Successfully installed pyspark-3.5.2\n"
          ]
        }
      ]
    },
    {
      "cell_type": "code",
      "source": [
        "from pyspark.sql import SparkSession\n",
        "\n",
        "# Initialize Spark session\n",
        "spark = SparkSession.builder \\\n",
        "    .appName(\"SparkNotebook\") \\\n",
        "    .getOrCreate()\n",
        "\n",
        "# Verify Spark session\n",
        "print(\"Current Spark Version:\", spark.version)"
      ],
      "metadata": {
        "colab": {
          "base_uri": "https://localhost:8080/"
        },
        "id": "51ksWXyNtx3u",
        "outputId": "f66aeb96-489f-4410-f8e3-12c4352e12b3"
      },
      "execution_count": null,
      "outputs": [
        {
          "output_type": "stream",
          "name": "stdout",
          "text": [
            "Current Spark Version: 3.5.0\n"
          ]
        }
      ]
    },
    {
      "cell_type": "markdown",
      "source": [
        "### **Atividade 01**\n",
        "\n",
        "1. Crie uma consulta que mostre nesta ordem: Nome, Estado e Status.\n",
        "2. Crie uma consulta que mostre apenas os clientes do Status \"Platinum\" e \"Gold\".\n",
        "3. Demostre quanto de cada Status de Clientes representa em vendas."
      ],
      "metadata": {
        "id": "td07-yxvtKLx"
      }
    },
    {
      "cell_type": "code",
      "execution_count": null,
      "metadata": {
        "colab": {
          "base_uri": "https://localhost:8080/"
        },
        "id": "xgrKjL0PpLtp",
        "outputId": "a4c2633a-e9dd-4db8-b929-4b91fa4700ab"
      },
      "outputs": [
        {
          "output_type": "stream",
          "name": "stdout",
          "text": [
            "+---------+--------------------+------+------+--------+\n",
            "|ClienteID|             Cliente|Estado|Genero|  Status|\n",
            "+---------+--------------------+------+------+--------+\n",
            "|        1|Adelina Buenaventura|    RJ|     M|  Silver|\n",
            "|        2|        Adelino Gago|    RJ|     M|  Silver|\n",
            "|        3|     Adolfo Patrício|    PE|     M|  Silver|\n",
            "|        4|    Adriana Guedelha|    RO|     F|Platinum|\n",
            "|        5|       Adélio Lisboa|    SE|     M|  Silver|\n",
            "|        6|       Adérito Bahía|    MA|     M|  Silver|\n",
            "|        7|       Aida Dorneles|    RN|     F|  Silver|\n",
            "|        8|   Alarico Quinterno|    AC|     M|  Silver|\n",
            "|        9|    Alberto Cezimbra|    AM|     M|  Silver|\n",
            "|       10|    Alberto Monsanto|    RN|     M|    Gold|\n",
            "|       11|       Albino Canela|    AC|     M|  Silver|\n",
            "|       12|     Alceste Varanda|    RR|     F|  Silver|\n",
            "|       13|  Alcides Carvalhais|    RO|     M|  Silver|\n",
            "|       14|        Aldo Martins|    GO|     M|  Silver|\n",
            "|       15|   Alexandra Tabares|    MG|     F|  Silver|\n",
            "|       16|      Alfredo Cotrim|    SC|     M|  Silver|\n",
            "|       17|     Almeno Figueira|    SC|     M|  Silver|\n",
            "|       18|      Alvito Peralta|    AM|     M|  Silver|\n",
            "|       19|     Amadeu Martinho|    RN|     M|  Silver|\n",
            "|       20|      Amélia Estévez|    PE|     F|  Silver|\n",
            "+---------+--------------------+------+------+--------+\n",
            "only showing top 20 rows\n",
            "\n",
            "+--------+----------+---------+---------+--------+\n",
            "|VendasID|VendedorID|ClienteID|     Data|   Total|\n",
            "+--------+----------+---------+---------+--------+\n",
            "|       1|         1|       91| 1/1/2019|  8053.6|\n",
            "|       2|         6|      185| 1/1/2020|   150.4|\n",
            "|       3|         7|       31| 2/1/2020|  6087.0|\n",
            "|       4|         5|       31| 2/1/2019| 13828.6|\n",
            "|       5|         5|       31| 3/1/2018|26096.66|\n",
            "|       6|         5|       31| 4/1/2020| 18402.0|\n",
            "|       7|         5|       31| 6/1/2019|  7524.2|\n",
            "|       8|         5|      186| 6/1/2019| 12036.6|\n",
            "|       9|         7|       91| 6/1/2020| 2804.75|\n",
            "|      10|         2|      202| 6/1/2020|  8852.0|\n",
            "|      11|         7|       58| 8/1/2019|16545.25|\n",
            "|      12|         7|       58| 9/1/2018|11411.88|\n",
            "|      13|         7|       58|10/1/2019| 15829.7|\n",
            "|      14|         3|      249|12/1/2020| 6154.36|\n",
            "|      15|         4|      249|12/1/2018| 3255.08|\n",
            "|      16|         7|      192|13/1/2020| 2901.25|\n",
            "|      17|         2|       79|13/1/2019| 15829.7|\n",
            "|      18|        10|       79|14/1/2019|16996.36|\n",
            "|      19|        10|      191|14/1/2019|   155.0|\n",
            "|      20|         9|      218|15/1/2018|  131.75|\n",
            "+--------+----------+---------+---------+--------+\n",
            "only showing top 20 rows\n",
            "\n"
          ]
        }
      ],
      "source": [
        "# Import data\n",
        "Clientes = spark.read.format(\"parquet\").load(\"/content/Clientes.parquet\")\n",
        "Vendas = spark.read.format(\"parquet\").load(\"/content/Vendas.parquet\")\n",
        "\n",
        "# Show data\n",
        "Clientes.show()\n",
        "Vendas.show()"
      ]
    },
    {
      "cell_type": "code",
      "source": [
        "# Select requested fields\n",
        "ClienteEstadoStatus = Clientes.select(\"Cliente\", \"Estado\", \"Status\")\n",
        "\n",
        "# Rename field as requested in the statement.\n",
        "NomeEstadoStatus = ClienteEstadoStatus.withColumnRenamed(\"Cliente\", \"Nome\")\n",
        "\n",
        "# Show results\n",
        "NomeEstadoStatus.show()"
      ],
      "metadata": {
        "colab": {
          "base_uri": "https://localhost:8080/"
        },
        "id": "33vOFD2-wmge",
        "outputId": "b607f817-96ab-4e3b-a081-c82e34012288"
      },
      "execution_count": null,
      "outputs": [
        {
          "output_type": "stream",
          "name": "stdout",
          "text": [
            "+--------------------+------+--------+\n",
            "|                Nome|Estado|  Status|\n",
            "+--------------------+------+--------+\n",
            "|Adelina Buenaventura|    RJ|  Silver|\n",
            "|        Adelino Gago|    RJ|  Silver|\n",
            "|     Adolfo Patrício|    PE|  Silver|\n",
            "|    Adriana Guedelha|    RO|Platinum|\n",
            "|       Adélio Lisboa|    SE|  Silver|\n",
            "|       Adérito Bahía|    MA|  Silver|\n",
            "|       Aida Dorneles|    RN|  Silver|\n",
            "|   Alarico Quinterno|    AC|  Silver|\n",
            "|    Alberto Cezimbra|    AM|  Silver|\n",
            "|    Alberto Monsanto|    RN|    Gold|\n",
            "|       Albino Canela|    AC|  Silver|\n",
            "|     Alceste Varanda|    RR|  Silver|\n",
            "|  Alcides Carvalhais|    RO|  Silver|\n",
            "|        Aldo Martins|    GO|  Silver|\n",
            "|   Alexandra Tabares|    MG|  Silver|\n",
            "|      Alfredo Cotrim|    SC|  Silver|\n",
            "|     Almeno Figueira|    SC|  Silver|\n",
            "|      Alvito Peralta|    AM|  Silver|\n",
            "|     Amadeu Martinho|    RN|  Silver|\n",
            "|      Amélia Estévez|    PE|  Silver|\n",
            "+--------------------+------+--------+\n",
            "only showing top 20 rows\n",
            "\n"
          ]
        }
      ]
    },
    {
      "cell_type": "code",
      "source": [
        "# Filter data with the requested criteria\n",
        "ClientesPlatinumGold = Clientes.filter(\n",
        "  (Clientes.Status == \"Platinum\") |\n",
        "  (Clientes.Status == \"Gold\")\n",
        ")\n",
        "\n",
        "# Show results\n",
        "ClientesPlatinumGold.show()"
      ],
      "metadata": {
        "colab": {
          "base_uri": "https://localhost:8080/"
        },
        "id": "aTHObtMvyD9N",
        "outputId": "5a5abee8-925f-4f1e-aaec-2724b2cb720c"
      },
      "execution_count": null,
      "outputs": [
        {
          "output_type": "stream",
          "name": "stdout",
          "text": [
            "+---------+-------------------+------+------+--------+\n",
            "|ClienteID|            Cliente|Estado|Genero|  Status|\n",
            "+---------+-------------------+------+------+--------+\n",
            "|        4|   Adriana Guedelha|    RO|     F|Platinum|\n",
            "|       10|   Alberto Monsanto|    RN|     M|    Gold|\n",
            "|       28|      Anna Carvajal|    RS|     F|    Gold|\n",
            "|       49|      Bento Quintão|    SP|     M|    Gold|\n",
            "|       68|      Carminda Dias|    AM|     F|    Gold|\n",
            "|       83|      Cláudio Jorge|    TO|     M|    Gold|\n",
            "|      121|    Dionísio Saltão|    PR|     M|    Gold|\n",
            "|      166|   Firmino Meireles|    AM|     M|    Gold|\n",
            "|      170|      Flor Vilanova|    CE|     M|Platinum|\n",
            "|      220|Honorina Villaverde|    PE|     F|    Gold|\n",
            "|      230|    Ibijara Botelho|    RR|     F|Platinum|\n",
            "|      237|  Iracema Rodríguez|    BA|     F|    Gold|\n",
            "|      247|         Joana Ataí|    GO|     F|Platinum|\n",
            "+---------+-------------------+------+------+--------+\n",
            "\n"
          ]
        }
      ]
    },
    {
      "cell_type": "code",
      "source": [
        "# Join the data to retrieve all the necessary information required to fulfill the request.\n",
        "VendasCliente = Vendas.join(\n",
        "  Clientes,\n",
        "  Vendas.ClienteID == Clientes.ClienteID, \"inner\"\n",
        ")\n",
        "\n",
        "# Show results\n",
        "VendasCliente.show()\n",
        "\n",
        "# Group the data to calculate the total revenue from sales based on Status\n",
        "RevenueByStatus = VendasCliente \\\n",
        "  .groupBy(\"Status\") \\\n",
        "  .agg({\"Total\": \"sum\"}) \\\n",
        "  .orderBy(\"sum(Total)\")\n",
        "\n",
        "# Show results\n",
        "RevenueByStatus.show()"
      ],
      "metadata": {
        "colab": {
          "base_uri": "https://localhost:8080/"
        },
        "id": "kfshsy06x2e8",
        "outputId": "cc7ba94a-efdc-4293-a98b-d0f3e1871333"
      },
      "execution_count": null,
      "outputs": [
        {
          "output_type": "stream",
          "name": "stdout",
          "text": [
            "+--------+----------+---------+---------+--------+---------+-------------------+------+------+------+\n",
            "|VendasID|VendedorID|ClienteID|     Data|   Total|ClienteID|            Cliente|Estado|Genero|Status|\n",
            "+--------+----------+---------+---------+--------+---------+-------------------+------+------+------+\n",
            "|       1|         1|       91| 1/1/2019|  8053.6|       91|     Cosme Zambujal|    BA|     M|Silver|\n",
            "|       2|         6|      185| 1/1/2020|   150.4|      185|  Gertrudes Hidalgo|    PA|     F|Silver|\n",
            "|       3|         7|       31| 2/1/2020|  6087.0|       31|   Antão Corte-Real|    ES|     M|Silver|\n",
            "|       4|         5|       31| 2/1/2019| 13828.6|       31|   Antão Corte-Real|    ES|     M|Silver|\n",
            "|       5|         5|       31| 3/1/2018|26096.66|       31|   Antão Corte-Real|    ES|     M|Silver|\n",
            "|       6|         5|       31| 4/1/2020| 18402.0|       31|   Antão Corte-Real|    ES|     M|Silver|\n",
            "|       7|         5|       31| 6/1/2019|  7524.2|       31|   Antão Corte-Real|    ES|     M|Silver|\n",
            "|       8|         5|      186| 6/1/2019| 12036.6|      186|  Gertrudes Infante|    RS|     F|Silver|\n",
            "|       9|         7|       91| 6/1/2020| 2804.75|       91|     Cosme Zambujal|    BA|     M|Silver|\n",
            "|      10|         2|      202| 6/1/2020|  8852.0|      202| Greice Lameirinhas|    PI|     F|Silver|\n",
            "|      11|         7|       58| 8/1/2019|16545.25|       58|     Brígida Gusmão|    DF|     F|Silver|\n",
            "|      12|         7|       58| 9/1/2018|11411.88|       58|     Brígida Gusmão|    DF|     F|Silver|\n",
            "|      13|         7|       58|10/1/2019| 15829.7|       58|     Brígida Gusmão|    DF|     F|Silver|\n",
            "|      14|         3|      249|12/1/2020| 6154.36|      249|     Joaquim Mieiro|    TO|     M|Silver|\n",
            "|      15|         4|      249|12/1/2018| 3255.08|      249|     Joaquim Mieiro|    TO|     M|Silver|\n",
            "|      16|         7|      192|13/1/2020| 2901.25|      192|    Gisela Candeias|    SC|     F|Silver|\n",
            "|      17|         2|       79|13/1/2019| 15829.7|       79|      Cidália Miera|    SE|     F|Silver|\n",
            "|      18|        10|       79|14/1/2019|16996.36|       79|      Cidália Miera|    SE|     F|Silver|\n",
            "|      19|        10|      191|14/1/2019|   155.0|      191|       Gisela Bahia|    SP|     F|Silver|\n",
            "|      20|         9|      218|15/1/2018|  131.75|      218|Hermígio Villaverde|    MA|     M|Silver|\n",
            "+--------+----------+---------+---------+--------+---------+-------------------+------+------+------+\n",
            "only showing top 20 rows\n",
            "\n",
            "+--------+------------------+\n",
            "|  Status|        sum(Total)|\n",
            "+--------+------------------+\n",
            "|Platinum|          12584.68|\n",
            "|    Gold|27286.690000000002|\n",
            "|  Silver|        3014291.36|\n",
            "+--------+------------------+\n",
            "\n"
          ]
        }
      ]
    },
    {
      "cell_type": "markdown",
      "source": [
        "### **Atividade 02**\n",
        "1. Crie um banco de dados no DW do Spark chamado VendasVarejo, e persista todas as tabelas neste banco de dados.\n",
        "2. Crie uma consulta que mostre de cada item vendido: Nome do Cliente, Data da Venda, Produto, Vendedor e Valor Total do Item."
      ],
      "metadata": {
        "id": "pOyYA7xyAtHh"
      }
    },
    {
      "cell_type": "code",
      "source": [
        "# Import Data\n",
        "Clientes = spark.read.format(\"parquet\").load(\"/content/Clientes.parquet\")\n",
        "Vendedores = spark.read.format(\"parquet\").load(\"/content/Vendedores.parquet\")\n",
        "Vendas = spark.read.format(\"parquet\").load(\"/content/Vendas.parquet\")\n",
        "Produtos = spark.read.format(\"parquet\").load(\"/content/Produtos.parquet\")\n",
        "ItensVendas = spark.read.format(\"parquet\").load(\"/content/ItensVendas.parquet\")"
      ],
      "metadata": {
        "id": "DCAPF-EqAr9u"
      },
      "execution_count": null,
      "outputs": []
    },
    {
      "cell_type": "code",
      "source": [
        "# Create and show new database\n",
        "spark.sql(\"CREATE DATABASE IF NOT EXISTS VendasVarejo\")\n",
        "spark.sql(\"show databases\").show()\n",
        "\n",
        "# Select created database for use\n",
        "spark.sql(\"USE VendasVarejo\")\n",
        "\n",
        "# Create and show tables\n",
        "\n",
        "# @TODO: Uncomment if this is the first time you are running it\n",
        "# Clientes.write.saveAsTable(\"Clientes\")\n",
        "# Vendedores.write.saveAsTable(\"Vendedores\")\n",
        "# Vendas.write.saveAsTable(\"Vendas\")\n",
        "# Produtos.write.saveAsTable(\"Produtos\")\n",
        "# ItensVendas.write.saveAsTable(\"ItensVendas\")\n",
        "\n",
        "spark.sql(\"show tables\").show()"
      ],
      "metadata": {
        "colab": {
          "base_uri": "https://localhost:8080/"
        },
        "id": "aUtKvFWfXTG0",
        "outputId": "b3258c7c-892d-46d3-8123-e62199ab9bcc"
      },
      "execution_count": null,
      "outputs": [
        {
          "output_type": "stream",
          "name": "stdout",
          "text": [
            "+------------+\n",
            "|   namespace|\n",
            "+------------+\n",
            "|     default|\n",
            "|vendasvarejo|\n",
            "+------------+\n",
            "\n",
            "+------------+-----------+-----------+\n",
            "|   namespace|  tableName|isTemporary|\n",
            "+------------+-----------+-----------+\n",
            "|vendasvarejo|   clientes|      false|\n",
            "|vendasvarejo|itensvendas|      false|\n",
            "|vendasvarejo|   produtos|      false|\n",
            "|vendasvarejo|     vendas|      false|\n",
            "|vendasvarejo| vendedores|      false|\n",
            "+------------+-----------+-----------+\n",
            "\n"
          ]
        }
      ]
    },
    {
      "cell_type": "code",
      "source": [
        "# Perform SQL query and show its results\n",
        "Query = spark.sql(\"\"\"\n",
        "  SELECT\n",
        "    CLIENTES.Cliente AS `Nome do Cliente`,\n",
        "    VENDAS.Data AS `Data da Venda`,\n",
        "    PRODUTOS.Produto AS Produto,\n",
        "    VENDEDORES.Vendedor AS Vendedor,\n",
        "    ITEMS.ValorTotal AS `Valor Total do Item`\n",
        "  FROM itensvendas AS ITEMS\n",
        "  INNER JOIN vendas AS VENDAS ON VENDAS.VendasID = ITEMS.VendasID\n",
        "  INNER JOIN clientes AS CLIENTES ON CLIENTES.ClienteID = VENDAS.ClienteID\n",
        "  INNER JOIN vendedores AS VENDEDORES ON VENDEDORES.VendedorID = VENDAS.VendedorID\n",
        "  INNER JOIN produtos AS PRODUTOS ON PRODUTOS.ProdutoID = ITEMS.ProdutoID\n",
        "\"\"\")\n",
        "\n",
        "Query.show()"
      ],
      "metadata": {
        "colab": {
          "base_uri": "https://localhost:8080/"
        },
        "id": "wJdLrT4Nb9WJ",
        "outputId": "541d771f-afa8-4491-cecd-ffd01b086d34"
      },
      "execution_count": null,
      "outputs": [
        {
          "output_type": "stream",
          "name": "stdout",
          "text": [
            "+-----------------+-------------+--------------------+----------------+-------------------+\n",
            "|  Nome do Cliente|Data da Venda|             Produto|        Vendedor|Valor Total do Item|\n",
            "+-----------------+-------------+--------------------+----------------+-------------------+\n",
            "|   Cosme Zambujal|     1/1/2019|Bicicleta Altools...|    Armando Lago|            7820.85|\n",
            "|   Cosme Zambujal|     1/1/2019|Bermuda Predactor...|    Armando Lago|              97.75|\n",
            "|   Cosme Zambujal|     1/1/2019|Camiseta Predacto...|    Armando Lago|              135.0|\n",
            "|Gertrudes Hidalgo|     1/1/2020|Luva De Ciclismo ...|   Iberê Lacerda|              150.4|\n",
            "| Antão Corte-Real|     2/1/2020|Capacete Gometws ...|Jéssica Castelão|              155.0|\n",
            "| Antão Corte-Real|     2/1/2020|Bicicleta Gometws...|Jéssica Castelão|             5932.0|\n",
            "| Antão Corte-Real|     2/1/2019|Bicicleta Altools...|  Hélio Liberato|            7820.85|\n",
            "| Antão Corte-Real|     2/1/2019|Bermuda Predactor...|  Hélio Liberato|              97.75|\n",
            "| Antão Corte-Real|     2/1/2019|Bicicleta Gometws...|  Hélio Liberato|             5910.0|\n",
            "| Antão Corte-Real|     3/1/2018|Bicicleta Gometws...|  Hélio Liberato|             2955.0|\n",
            "| Antão Corte-Real|     3/1/2018|Bicicleta Trinc C...|  Hélio Liberato|             7658.0|\n",
            "| Antão Corte-Real|     3/1/2018|Bicicleta Aro 29 ...|  Hélio Liberato|             8852.0|\n",
            "| Antão Corte-Real|     3/1/2018|Camiseta Predacto...|  Hélio Liberato|              121.5|\n",
            "| Antão Corte-Real|     3/1/2018|Bicicleta Gts Adv...|  Hélio Liberato|            6510.16|\n",
            "| Antão Corte-Real|     4/1/2020|Bicicleta Altools...|  Hélio Liberato|            18402.0|\n",
            "| Antão Corte-Real|     6/1/2019|Bicicleta Aro 29 ...|  Hélio Liberato|             7524.2|\n",
            "|Gertrudes Infante|     6/1/2019|Luva De Ciclismo ...|  Hélio Liberato|              376.0|\n",
            "|Gertrudes Infante|     6/1/2019|Bicicleta Gts Adv...|  Hélio Liberato|            3616.75|\n",
            "|Gertrudes Infante|     6/1/2019|Camiseta Predacto...|  Hélio Liberato|              108.0|\n",
            "|Gertrudes Infante|     6/1/2019|Bermuda Predactor...|  Hélio Liberato|              115.0|\n",
            "+-----------------+-------------+--------------------+----------------+-------------------+\n",
            "only showing top 20 rows\n",
            "\n"
          ]
        }
      ]
    },
    {
      "cell_type": "markdown",
      "source": [
        "### **Machine Learning Spark**"
      ],
      "metadata": {
        "id": "Xv_nFCPx_2pP"
      }
    },
    {
      "cell_type": "code",
      "source": [
        "from pyspark.ml.regression import LinearRegression, RandomForestRegressor # machine learning models\n",
        "from pyspark.ml.evaluation import RegressionEvaluator # compare models' eficiency\n",
        "from pyspark.ml.feature import VectorAssembler # transform categoric data into numeric\n",
        "\n",
        "CarrosTemp = spark.read.csv(\n",
        "    \"/content/Carros.csv\",\n",
        "    inferSchema = True,\n",
        "    header = True,\n",
        "    sep = \";\"\n",
        ")\n",
        "CarrosTemp.show(5)\n",
        "\n",
        "# Modelo para prever o HP\n",
        "Carros = CarrosTemp.select(\"Consumo\", \"Cilindros\", \"Cilindradas\", \"HP\")\n",
        "Carros.show(5)\n",
        "\n",
        "# Criar Modelo Linear\n",
        "VectorCaracteristicas = VectorAssembler(\n",
        "    inputCols=[(\"Consumo\"), (\"Cilindros\"), (\"Cilindradas\")],\n",
        "    outputCol=\"Caracteristicas\"\n",
        ")\n",
        "\n",
        "Carros = VectorCaracteristicas.transform(Carros)\n",
        "Carros.show(5)\n",
        "\n",
        "CarrosTreino, CarrosTeste = Carros.randomSplit([0.7, 0.3])\n",
        "print(CarrosTreino.count(), CarrosTeste.count())\n",
        "\n",
        "RegLin = LinearRegression(\n",
        "    featuresCol=\"Caracteristicas\",\n",
        "    labelCol=\"HP\"\n",
        ")\n",
        "\n",
        "ModeloRegLin = RegLin.fit(CarrosTreino)\n",
        "\n",
        "PrevisaoRegLin = ModeloRegLin.transform(CarrosTeste)\n",
        "PrevisaoRegLin.show()\n",
        "\n",
        "Avaliacao = RegressionEvaluator(\n",
        "    predictionCol=\"prediction\",\n",
        "    labelCol=\"HP\",\n",
        "    metricName=\"rmse\"\n",
        ")\n",
        "\n",
        "RMSERegLin = Avaliacao.evaluate(PrevisaoRegLin)\n",
        "print(RMSERegLin)\n",
        "\n",
        "# Criar Modelo Random Forest\n",
        "RandFore = RandomForestRegressor(featuresCol=\"Caracteristicas\", labelCol=\"HP\")\n",
        "ModeloRandFore = RandFore.fit(CarrosTreino)\n",
        "PrevisaoRandFore = ModeloRandFore.transform(CarrosTeste)\n",
        "PrevisaoRandFore.show()\n",
        "\n",
        "RMSERandFore = Avaliacao.evaluate(PrevisaoRandFore)\n",
        "print(RMSERandFore)"
      ],
      "metadata": {
        "colab": {
          "base_uri": "https://localhost:8080/"
        },
        "id": "WadkZv0x_8NT",
        "outputId": "a5dd665a-195a-4245-dcce-467d063283f5"
      },
      "execution_count": 24,
      "outputs": [
        {
          "output_type": "stream",
          "name": "stdout",
          "text": [
            "+-------+---------+-----------+---------------+----+-----+---------+-----------+-------+-----------+---+\n",
            "|Consumo|Cilindros|Cilindradas|RelEixoTraseiro|Peso|Tempo|TipoMotor|Transmissao|Marchas|Carburadors| HP|\n",
            "+-------+---------+-----------+---------------+----+-----+---------+-----------+-------+-----------+---+\n",
            "|     21|        6|        160|             39| 262| 1646|        0|          1|      4|          4|110|\n",
            "|     21|        6|        160|             39|2875| 1702|        0|          1|      4|          4|110|\n",
            "|    228|        4|        108|            385| 232| 1861|        1|          1|      4|          1| 93|\n",
            "|    214|        6|        258|            308|3215| 1944|        1|          0|      3|          1|110|\n",
            "|    187|        8|        360|            315| 344| 1702|        0|          0|      3|          2|175|\n",
            "+-------+---------+-----------+---------------+----+-----+---------+-----------+-------+-----------+---+\n",
            "only showing top 5 rows\n",
            "\n",
            "+-------+---------+-----------+---+\n",
            "|Consumo|Cilindros|Cilindradas| HP|\n",
            "+-------+---------+-----------+---+\n",
            "|     21|        6|        160|110|\n",
            "|     21|        6|        160|110|\n",
            "|    228|        4|        108| 93|\n",
            "|    214|        6|        258|110|\n",
            "|    187|        8|        360|175|\n",
            "+-------+---------+-----------+---+\n",
            "only showing top 5 rows\n",
            "\n",
            "+-------+---------+-----------+---+-----------------+\n",
            "|Consumo|Cilindros|Cilindradas| HP|  Caracteristicas|\n",
            "+-------+---------+-----------+---+-----------------+\n",
            "|     21|        6|        160|110| [21.0,6.0,160.0]|\n",
            "|     21|        6|        160|110| [21.0,6.0,160.0]|\n",
            "|    228|        4|        108| 93|[228.0,4.0,108.0]|\n",
            "|    214|        6|        258|110|[214.0,6.0,258.0]|\n",
            "|    187|        8|        360|175|[187.0,8.0,360.0]|\n",
            "+-------+---------+-----------+---+-----------------+\n",
            "only showing top 5 rows\n",
            "\n",
            "20 12\n",
            "+-------+---------+-----------+---+------------------+------------------+\n",
            "|Consumo|Cilindros|Cilindradas| HP|   Caracteristicas|        prediction|\n",
            "+-------+---------+-----------+---+------------------+------------------+\n",
            "|     15|        8|        301|335|  [15.0,8.0,301.0]| 188.2117832310981|\n",
            "|     21|        6|        160|110|  [21.0,6.0,160.0]|125.93068782985196|\n",
            "|     26|        4|       1203| 91| [26.0,4.0,1203.0]|51.575714290719446|\n",
            "|    133|        8|        350|245| [133.0,8.0,350.0]|199.93632664658398|\n",
            "|    147|        8|        440|230| [147.0,8.0,440.0]| 200.4762436129818|\n",
            "|    187|        8|        360|175| [187.0,8.0,360.0]|205.42740039817997|\n",
            "|    192|        8|        400|175| [192.0,8.0,400.0]|205.54079164530364|\n",
            "|    215|        4|       1201| 97|[215.0,4.0,1201.0]| 71.16854490106451|\n",
            "|    228|        4|       1408| 95|[228.0,4.0,1408.0]| 70.42202524047241|\n",
            "|    273|        4|         79| 66|  [273.0,4.0,79.0]| 88.51844966224641|\n",
            "|    304|        4|        757| 52| [304.0,4.0,757.0]|  84.8741465755891|\n",
            "|    324|        4|        787| 66| [324.0,4.0,787.0]| 86.64202027675165|\n",
            "+-------+---------+-----------+---+------------------+------------------+\n",
            "\n",
            "51.15419435589508\n",
            "+-------+---------+-----------+---+------------------+------------------+\n",
            "|Consumo|Cilindros|Cilindradas| HP|   Caracteristicas|        prediction|\n",
            "+-------+---------+-----------+---+------------------+------------------+\n",
            "|     15|        8|        301|335|  [15.0,8.0,301.0]|171.81875000000002|\n",
            "|     21|        6|        160|110|  [21.0,6.0,160.0]|133.44333333333333|\n",
            "|     26|        4|       1203| 91| [26.0,4.0,1203.0]|133.29722222222222|\n",
            "|    133|        8|        350|245| [133.0,8.0,350.0]|213.85486111111112|\n",
            "|    147|        8|        440|230| [147.0,8.0,440.0]|207.41319444444443|\n",
            "|    187|        8|        360|175| [187.0,8.0,360.0]|155.58541666666667|\n",
            "|    192|        8|        400|175| [192.0,8.0,400.0]|155.58541666666667|\n",
            "|    215|        4|       1201| 97|[215.0,4.0,1201.0]|           96.6975|\n",
            "|    228|        4|       1408| 95|[228.0,4.0,1408.0]|             90.01|\n",
            "|    273|        4|         79| 66|  [273.0,4.0,79.0]| 96.02250000000001|\n",
            "|    304|        4|        757| 52| [304.0,4.0,757.0]|             90.06|\n",
            "|    324|        4|        787| 66| [324.0,4.0,787.0]| 79.58500000000001|\n",
            "+-------+---------+-----------+---+------------------+------------------+\n",
            "\n",
            "53.0410679946703\n"
          ]
        }
      ]
    },
    {
      "cell_type": "code",
      "source": [
        "# Classificação\n",
        "from pyspark.ml.feature import RFormula\n",
        "from pyspark.ml.classification import DecisionTreeClassifier\n",
        "from pyspark.ml.evaluation import BinaryClassificationEvaluator\n",
        "\n",
        "Churn = spark.read.csv(\"/content/Churn.csv\", inferSchema = True, header = True, sep = \";\")\n",
        "Churn.show(5)\n",
        "\n",
        "Formula = RFormula(\n",
        "    formula=\"Exited ~ .\",\n",
        "    featuresCol = \"features\",\n",
        "    labelCol = \"label\",\n",
        "    handleInvalid = \"skip\"\n",
        ")\n",
        "\n",
        "ChurnTrans = Formula.fit(Churn).transform(Churn).select(\"features\", \"label\")\n",
        "ChurnTrans.show(truncate = False)\n",
        "\n",
        "ChurnTreino, ChurnTeste = ChurnTrans.randomSplit([0.7, 0.3])\n",
        "print(ChurnTreino.count(), ChurnTeste.count())\n",
        "\n",
        "DecTree = DecisionTreeClassifier(labelCol=\"label\", featuresCol=\"features\")\n",
        "ModeloDecTree = DecTree.fit(ChurnTreino)\n",
        "\n",
        "PrevisaoDecTree = ModeloDecTree.transform(ChurnTeste)\n",
        "PrevisaoDecTree.show()\n",
        "\n",
        "Avaliacao = BinaryClassificationEvaluator(\n",
        "    rawPredictionCol = \"prediction\",\n",
        "    labelCol = \"label\",\n",
        "    metricName = \"areaUnderROC\"\n",
        ")\n",
        "\n",
        "AreaUnderROC = Avaliacao.evaluate(PrevisaoDecTree)\n",
        "print(AreaUnderROC)"
      ],
      "metadata": {
        "colab": {
          "base_uri": "https://localhost:8080/"
        },
        "id": "ULRG3hCSHmI-",
        "outputId": "eb4a12a0-d2dc-4d7d-ef88-e216181c0da1"
      },
      "execution_count": 38,
      "outputs": [
        {
          "output_type": "stream",
          "name": "stdout",
          "text": [
            "+-----------+---------+------+---+------+--------+-------------+---------+--------------+---------------+------+\n",
            "|CreditScore|Geography|Gender|Age|Tenure| Balance|NumOfProducts|HasCrCard|IsActiveMember|EstimatedSalary|Exited|\n",
            "+-----------+---------+------+---+------+--------+-------------+---------+--------------+---------------+------+\n",
            "|        619|   France|Female| 42|     2|       0|            1|        1|             1|       10134888|     1|\n",
            "|        608|    Spain|Female| 41|     1| 8380786|            1|        0|             1|       11254258|     0|\n",
            "|        502|   France|Female| 42|     8| 1596608|            3|        1|             0|       11393157|     1|\n",
            "|        699|   France|Female| 39|     1|       0|            2|        0|             0|        9382663|     0|\n",
            "|        850|    Spain|Female| 43|     2|12551082|            1|        1|             1|         790841|     0|\n",
            "+-----------+---------+------+---+------+--------+-------------+---------+--------------+---------------+------+\n",
            "only showing top 5 rows\n",
            "\n",
            "+----------------------------------------------------------------+-----+\n",
            "|features                                                        |label|\n",
            "+----------------------------------------------------------------+-----+\n",
            "|[619.0,1.0,0.0,0.0,42.0,2.0,0.0,1.0,1.0,1.0,1.0134888E7]        |1.0  |\n",
            "|[608.0,0.0,0.0,0.0,41.0,1.0,8380786.0,1.0,0.0,1.0,1.1254258E7]  |0.0  |\n",
            "|[502.0,1.0,0.0,0.0,42.0,8.0,1596608.0,3.0,1.0,0.0,1.1393157E7]  |1.0  |\n",
            "|(11,[0,1,4,5,7,10],[699.0,1.0,39.0,1.0,2.0,9382663.0])          |0.0  |\n",
            "|[850.0,0.0,0.0,0.0,43.0,2.0,1.2551082E7,1.0,1.0,1.0,790841.0]   |0.0  |\n",
            "|[645.0,0.0,0.0,1.0,44.0,8.0,1.1375578E7,2.0,1.0,0.0,1.4975671E7]|1.0  |\n",
            "|[822.0,1.0,0.0,1.0,50.0,7.0,0.0,2.0,1.0,1.0,100628.0]           |0.0  |\n",
            "|[376.0,0.0,1.0,0.0,29.0,4.0,1.1504674E7,4.0,1.0,0.0,1.1934688E7]|1.0  |\n",
            "|[501.0,1.0,0.0,1.0,44.0,4.0,1.4205107E7,2.0,0.0,1.0,749405.0]   |0.0  |\n",
            "|[684.0,1.0,0.0,1.0,27.0,2.0,1.3460388E7,1.0,1.0,1.0,7172573.0]  |0.0  |\n",
            "|[528.0,1.0,0.0,1.0,31.0,6.0,1.0201672E7,2.0,0.0,0.0,8018112.0]  |0.0  |\n",
            "|[497.0,0.0,0.0,1.0,24.0,3.0,0.0,2.0,1.0,0.0,7639001.0]          |0.0  |\n",
            "|[476.0,1.0,0.0,0.0,34.0,10.0,0.0,2.0,1.0,0.0,2626098.0]         |0.0  |\n",
            "|(11,[0,1,4,5,7,10],[549.0,1.0,25.0,5.0,2.0,1.9085779E7])        |0.0  |\n",
            "|[635.0,0.0,0.0,0.0,35.0,7.0,0.0,2.0,1.0,1.0,6595165.0]          |0.0  |\n",
            "|[616.0,0.0,1.0,1.0,45.0,3.0,1.4312941E7,2.0,0.0,1.0,6432726.0]  |0.0  |\n",
            "|[653.0,0.0,1.0,1.0,58.0,1.0,1.3260288E7,1.0,1.0,0.0,509767.0]   |1.0  |\n",
            "|[549.0,0.0,0.0,0.0,24.0,9.0,0.0,2.0,1.0,1.0,1440641.0]          |0.0  |\n",
            "|(11,[0,3,4,5,7,10],[587.0,1.0,45.0,6.0,1.0,1.5868481E7])        |0.0  |\n",
            "|[726.0,1.0,0.0,0.0,24.0,6.0,0.0,2.0,1.0,1.0,5472403.0]          |0.0  |\n",
            "+----------------------------------------------------------------+-----+\n",
            "only showing top 20 rows\n",
            "\n",
            "6973 3027\n",
            "+--------------------+-----+--------------+--------------------+----------+\n",
            "|            features|label| rawPrediction|         probability|prediction|\n",
            "+--------------------+-----+--------------+--------------------+----------+\n",
            "|(11,[0,1,3,4,7,10...|  0.0|[4379.0,512.0]|[0.89531793089347...|       0.0|\n",
            "|(11,[0,1,4,5,7,10...|  0.0|[4379.0,512.0]|[0.89531793089347...|       0.0|\n",
            "|(11,[0,1,4,5,7,10...|  0.0|[4379.0,512.0]|[0.89531793089347...|       0.0|\n",
            "|(11,[0,1,4,5,7,10...|  0.0|[4379.0,512.0]|[0.89531793089347...|       0.0|\n",
            "|(11,[0,1,4,5,7,10...|  0.0|[4379.0,512.0]|[0.89531793089347...|       0.0|\n",
            "|(11,[0,1,4,5,7,10...|  1.0|  [27.0,210.0]|[0.11392405063291...|       1.0|\n",
            "|(11,[0,1,4,5,7,10...|  1.0|[4379.0,512.0]|[0.89531793089347...|       0.0|\n",
            "|(11,[0,1,4,5,7,10...|  1.0|    [0.0,32.0]|           [0.0,1.0]|       1.0|\n",
            "|(11,[0,1,4,5,7,10...|  0.0|[4379.0,512.0]|[0.89531793089347...|       0.0|\n",
            "|(11,[0,1,4,5,7,10...|  0.0|  [163.0,39.0]|[0.80693069306930...|       0.0|\n",
            "|(11,[0,1,4,5,7,10...|  0.0|[4379.0,512.0]|[0.89531793089347...|       0.0|\n",
            "|(11,[0,1,4,5,7,10...|  0.0|[4379.0,512.0]|[0.89531793089347...|       0.0|\n",
            "|(11,[0,1,4,5,7,10...|  0.0|[4379.0,512.0]|[0.89531793089347...|       0.0|\n",
            "|(11,[0,1,4,5,7,10...|  0.0|[4379.0,512.0]|[0.89531793089347...|       0.0|\n",
            "|(11,[0,1,4,5,7,10...|  1.0|[4379.0,512.0]|[0.89531793089347...|       0.0|\n",
            "|(11,[0,1,4,5,7,10...|  0.0|[4379.0,512.0]|[0.89531793089347...|       0.0|\n",
            "|(11,[0,1,4,5,7,10...|  0.0|[4379.0,512.0]|[0.89531793089347...|       0.0|\n",
            "|(11,[0,1,4,5,7,10...|  1.0|[4379.0,512.0]|[0.89531793089347...|       0.0|\n",
            "|(11,[0,1,4,5,7,10...|  0.0|  [163.0,39.0]|[0.80693069306930...|       0.0|\n",
            "|(11,[0,1,4,5,7,10...|  0.0|[4379.0,512.0]|[0.89531793089347...|       0.0|\n",
            "+--------------------+-----+--------------+--------------------+----------+\n",
            "only showing top 20 rows\n",
            "\n",
            "0.7072074242734548\n"
          ]
        }
      ]
    },
    {
      "cell_type": "markdown",
      "source": [
        "### **Atividade 04**\n",
        "Montar um Modelo para Iris, em que:\n",
        "1. Classe é a coluna \"class\", portanto, é MultiClass.\n",
        "2. Utilize MulticlassClassificationEvaluator.\n",
        "3. Use accuracy como métrica.\n",
        "4. Use um classificador diferente, por exemplo NaiveBayes."
      ],
      "metadata": {
        "id": "5KYxzmMm9KZo"
      }
    },
    {
      "cell_type": "code",
      "source": [
        "# Classificação\n",
        "from pyspark.ml.feature import RFormula\n",
        "from pyspark.ml.classification import NaiveBayes\n",
        "from pyspark.ml.evaluation import MulticlassClassificationEvaluator\n",
        "\n",
        "Iris = spark.read.csv(\"/content/iris.csv\", inferSchema = True, header = True, sep = \",\")\n",
        "Iris.show(5)\n",
        "\n",
        "Formula = RFormula(\n",
        "    formula=\"class ~ .\",\n",
        "    featuresCol = \"features\",\n",
        "    labelCol = \"label\",\n",
        "    handleInvalid = \"skip\"\n",
        ")\n",
        "\n",
        "IrisTrans = Formula.fit(Iris).transform(Iris).select(\"features\", \"label\")\n",
        "IrisTrans.show(truncate = False)\n",
        "\n",
        "IrisTreino, IrisTeste = IrisTrans.randomSplit([0.7, 0.3])\n",
        "print(IrisTreino.count(), IrisTeste.count())\n",
        "\n",
        "NaiBay = NaiveBayes(labelCol=\"label\", featuresCol=\"features\")\n",
        "ModeloNaiBay = NaiBay.fit(IrisTreino)\n",
        "\n",
        "PrevisaoNaiBay = ModeloNaiBay.transform(IrisTeste)\n",
        "PrevisaoNaiBay.show()\n",
        "\n",
        "IrisAvaliacao = MulticlassClassificationEvaluator(\n",
        "    predictionCol = \"prediction\",\n",
        "    labelCol = \"label\",\n",
        "    metricName = \"accuracy\"\n",
        ")\n",
        "\n",
        "Accuracy = IrisAvaliacao.evaluate(PrevisaoNaiBay)\n",
        "print(Accuracy)"
      ],
      "metadata": {
        "colab": {
          "base_uri": "https://localhost:8080/"
        },
        "id": "y_0ebguJ9P8_",
        "outputId": "c3fbb5fe-d09f-4f84-f7cc-460637c097c4"
      },
      "execution_count": 48,
      "outputs": [
        {
          "output_type": "stream",
          "name": "stdout",
          "text": [
            "+-----------+----------+-----------+----------+-----------+\n",
            "|sepallength|sepalwidth|petallength|petalwidth|      class|\n",
            "+-----------+----------+-----------+----------+-----------+\n",
            "|        5.1|       3.5|        1.4|       0.2|Iris-setosa|\n",
            "|        4.9|       3.0|        1.4|       0.2|Iris-setosa|\n",
            "|        4.7|       3.2|        1.3|       0.2|Iris-setosa|\n",
            "|        4.6|       3.1|        1.5|       0.2|Iris-setosa|\n",
            "|        5.0|       3.6|        1.4|       0.2|Iris-setosa|\n",
            "+-----------+----------+-----------+----------+-----------+\n",
            "only showing top 5 rows\n",
            "\n",
            "+-----------------+-----+\n",
            "|features         |label|\n",
            "+-----------------+-----+\n",
            "|[5.1,3.5,1.4,0.2]|0.0  |\n",
            "|[4.9,3.0,1.4,0.2]|0.0  |\n",
            "|[4.7,3.2,1.3,0.2]|0.0  |\n",
            "|[4.6,3.1,1.5,0.2]|0.0  |\n",
            "|[5.0,3.6,1.4,0.2]|0.0  |\n",
            "|[5.4,3.9,1.7,0.4]|0.0  |\n",
            "|[4.6,3.4,1.4,0.3]|0.0  |\n",
            "|[5.0,3.4,1.5,0.2]|0.0  |\n",
            "|[4.4,2.9,1.4,0.2]|0.0  |\n",
            "|[4.9,3.1,1.5,0.1]|0.0  |\n",
            "|[5.4,3.7,1.5,0.2]|0.0  |\n",
            "|[4.8,3.4,1.6,0.2]|0.0  |\n",
            "|[4.8,3.0,1.4,0.1]|0.0  |\n",
            "|[4.3,3.0,1.1,0.1]|0.0  |\n",
            "|[5.8,4.0,1.2,0.2]|0.0  |\n",
            "|[5.7,4.4,1.5,0.4]|0.0  |\n",
            "|[5.4,3.9,1.3,0.4]|0.0  |\n",
            "|[5.1,3.5,1.4,0.3]|0.0  |\n",
            "|[5.7,3.8,1.7,0.3]|0.0  |\n",
            "|[5.1,3.8,1.5,0.3]|0.0  |\n",
            "+-----------------+-----+\n",
            "only showing top 20 rows\n",
            "\n",
            "106 44\n",
            "+-----------------+-----+--------------------+--------------------+----------+\n",
            "|         features|label|       rawPrediction|         probability|prediction|\n",
            "+-----------------+-----+--------------------+--------------------+----------+\n",
            "|[4.6,3.4,1.4,0.3]|  0.0|[-11.923942897546...|[0.66650494577219...|       0.0|\n",
            "|[4.7,3.2,1.3,0.2]|  0.0|[-11.221036225091...|[0.69091863498007...|       0.0|\n",
            "|[4.7,3.2,1.6,0.2]|  0.0|[-11.797175721874...|[0.64174104107321...|       0.0|\n",
            "|[4.8,3.4,1.6,0.2]|  0.0|[-12.086562020560...|[0.67231667379088...|       0.0|\n",
            "|[4.9,2.5,4.5,1.7]|  2.0|[-22.197614918649...|[0.01810904156694...|       1.0|\n",
            "|[4.9,3.0,1.4,0.2]|  0.0|[-11.336809212713...|[0.65800455739865...|       0.0|\n",
            "|[4.9,3.1,1.5,0.1]|  0.0|[-11.274480996660...|[0.68410129818379...|       0.0|\n",
            "|[5.0,3.5,1.6,0.6]|  0.0|[-13.792007829302...|[0.56932888626860...|       0.0|\n",
            "|[5.0,3.6,1.4,0.2]|  0.0|[-12.062892917184...|[0.73525398522314...|       0.0|\n",
            "|[5.1,3.5,1.4,0.2]|  0.0|[-12.024756161531...|[0.72777911797023...|       0.0|\n",
            "|[5.1,3.5,1.4,0.3]|  0.0|[-12.388305227958...|[0.70045557159722...|       0.0|\n",
            "|[5.1,3.8,1.6,0.2]|  0.0|[-12.736372213725...|[0.73289045524219...|       0.0|\n",
            "|[5.2,2.7,3.9,1.4]|  1.0|[-20.386150216074...|[0.04986171630763...|       1.0|\n",
            "|[5.4,3.4,1.5,0.4]|  0.0|[-13.047839229247...|[0.65547144027482...|       0.0|\n",
            "|[5.4,3.4,1.7,0.2]|  0.0|[-12.704834094248...|[0.68214854037932...|       0.0|\n",
            "|[5.4,3.7,1.5,0.2]|  0.0|[-12.648264150731...|[0.74731085620847...|       0.0|\n",
            "|[5.7,2.9,4.2,1.3]|  1.0|[-21.172277328288...|[0.05666807481523...|       1.0|\n",
            "|[5.7,3.8,1.7,0.3]|  0.0|[-13.718193353840...|[0.71506473172354...|       0.0|\n",
            "|[5.7,4.4,1.5,0.4]|  0.0|[-14.352695531089...|[0.78241142773149...|       0.0|\n",
            "|[5.8,2.6,4.0,1.2]|  1.0|[-20.168149805460...|[0.06402084188838...|       1.0|\n",
            "+-----------------+-----+--------------------+--------------------+----------+\n",
            "only showing top 20 rows\n",
            "\n",
            "0.75\n"
          ]
        }
      ]
    }
  ]
}